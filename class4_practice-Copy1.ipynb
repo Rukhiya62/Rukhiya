{
 "cells": [
  {
   "cell_type": "code",
   "execution_count": 4,
   "id": "f9cdbb3b",
   "metadata": {},
   "outputs": [],
   "source": [
    "variable=\"anusha\""
   ]
  },
  {
   "cell_type": "code",
   "execution_count": 5,
   "id": "22fe1e71",
   "metadata": {},
   "outputs": [
    {
     "data": {
      "text/plain": [
       "'anusha'"
      ]
     },
     "execution_count": 5,
     "metadata": {},
     "output_type": "execute_result"
    }
   ],
   "source": [
    "variable"
   ]
  },
  {
   "cell_type": "code",
   "execution_count": 6,
   "id": "0f165983",
   "metadata": {},
   "outputs": [],
   "source": [
    "test=\"anusha\""
   ]
  },
  {
   "cell_type": "code",
   "execution_count": 7,
   "id": "07ed713e",
   "metadata": {},
   "outputs": [
    {
     "data": {
      "text/plain": [
       "'anusha'"
      ]
     },
     "execution_count": 7,
     "metadata": {},
     "output_type": "execute_result"
    }
   ],
   "source": [
    "test"
   ]
  },
  {
   "cell_type": "code",
   "execution_count": 10,
   "id": "49edcd30",
   "metadata": {},
   "outputs": [],
   "source": [
    "string1=\"hello\"\n"
   ]
  },
  {
   "cell_type": "code",
   "execution_count": 9,
   "id": "e56b47b1",
   "metadata": {},
   "outputs": [],
   "source": [
    "string2=\"hello all\"\n",
    "string3=\"bye all\""
   ]
  },
  {
   "cell_type": "code",
   "execution_count": 71,
   "id": "083d62e0",
   "metadata": {},
   "outputs": [
    {
     "data": {
      "text/plain": [
       "'hello'"
      ]
     },
     "execution_count": 71,
     "metadata": {},
     "output_type": "execute_result"
    }
   ],
   "source": [
    "string=\"hello\"\n",
    "string"
   ]
  },
  {
   "cell_type": "code",
   "execution_count": 12,
   "id": "b115c28f",
   "metadata": {},
   "outputs": [
    {
     "data": {
      "text/plain": [
       "'hello'"
      ]
     },
     "execution_count": 12,
     "metadata": {},
     "output_type": "execute_result"
    }
   ],
   "source": [
    "string1"
   ]
  },
  {
   "cell_type": "code",
   "execution_count": 13,
   "id": "610a1c01",
   "metadata": {},
   "outputs": [
    {
     "data": {
      "text/plain": [
       "'hello all'"
      ]
     },
     "execution_count": 13,
     "metadata": {},
     "output_type": "execute_result"
    }
   ],
   "source": [
    "string2"
   ]
  },
  {
   "cell_type": "raw",
   "id": "1a829de2",
   "metadata": {},
   "source": [
    "print(string4)"
   ]
  },
  {
   "cell_type": "code",
   "execution_count": 15,
   "id": "aaeb6547",
   "metadata": {},
   "outputs": [
    {
     "name": "stdout",
     "output_type": "stream",
     "text": [
      "bye all\n"
     ]
    }
   ],
   "source": [
    "print(string3)"
   ]
  },
  {
   "cell_type": "code",
   "execution_count": 16,
   "id": "e95b16b4",
   "metadata": {},
   "outputs": [],
   "source": [
    "string4='''hello everyone.how are you'''"
   ]
  },
  {
   "cell_type": "code",
   "execution_count": 19,
   "id": "8847c797",
   "metadata": {},
   "outputs": [],
   "source": [
    "string5='''hello everyone.\n",
    "how are you'''"
   ]
  },
  {
   "cell_type": "code",
   "execution_count": 21,
   "id": "d873b221",
   "metadata": {},
   "outputs": [
    {
     "ename": "NameError",
     "evalue": "name 'stt4' is not defined",
     "output_type": "error",
     "traceback": [
      "\u001b[1;31m---------------------------------------------------------------------------\u001b[0m",
      "\u001b[1;31mNameError\u001b[0m                                 Traceback (most recent call last)",
      "Cell \u001b[1;32mIn[21], line 1\u001b[0m\n\u001b[1;32m----> 1\u001b[0m \u001b[38;5;28mprint\u001b[39m\u001b[38;5;241m=\u001b[39m(\u001b[43mstt4\u001b[49m)\n",
      "\u001b[1;31mNameError\u001b[0m: name 'stt4' is not defined"
     ]
    }
   ],
   "source": [
    "print(stt4)"
   ]
  },
  {
   "cell_type": "code",
   "execution_count": 70,
   "id": "ef681782",
   "metadata": {},
   "outputs": [
    {
     "data": {
      "text/plain": [
       "'name'"
      ]
     },
     "execution_count": 70,
     "metadata": {},
     "output_type": "execute_result"
    }
   ],
   "source": [
    "string=\"name\"\n",
    "string"
   ]
  },
  {
   "cell_type": "code",
   "execution_count": 68,
   "id": "b34a8761",
   "metadata": {},
   "outputs": [
    {
     "ename": "TypeError",
     "evalue": "'list' object is not callable",
     "output_type": "error",
     "traceback": [
      "\u001b[1;31m---------------------------------------------------------------------------\u001b[0m",
      "\u001b[1;31mTypeError\u001b[0m                                 Traceback (most recent call last)",
      "Cell \u001b[1;32mIn[68], line 1\u001b[0m\n\u001b[1;32m----> 1\u001b[0m \u001b[38;5;28;43mprint\u001b[39;49m\u001b[43m(\u001b[49m\u001b[43mstring\u001b[49m\u001b[43m)\u001b[49m\n",
      "\u001b[1;31mTypeError\u001b[0m: 'list' object is not callable"
     ]
    }
   ],
   "source": []
  },
  {
   "cell_type": "code",
   "execution_count": 65,
   "id": "25100043",
   "metadata": {},
   "outputs": [],
   "source": [
    "stt=\"biotechnology\""
   ]
  },
  {
   "cell_type": "code",
   "execution_count": 26,
   "id": "7f691144",
   "metadata": {},
   "outputs": [],
   "source": [
    "print=(stt)"
   ]
  },
  {
   "cell_type": "code",
   "execution_count": 27,
   "id": "4d83d901",
   "metadata": {},
   "outputs": [
    {
     "data": {
      "text/plain": [
       "'biotechnology'"
      ]
     },
     "execution_count": 27,
     "metadata": {},
     "output_type": "execute_result"
    }
   ],
   "source": [
    "stt"
   ]
  },
  {
   "cell_type": "code",
   "execution_count": 28,
   "id": "b3567fd0",
   "metadata": {},
   "outputs": [],
   "source": [
    "print=(stt)"
   ]
  },
  {
   "cell_type": "code",
   "execution_count": 60,
   "id": "d1ab5e21",
   "metadata": {},
   "outputs": [],
   "source": [
    "x=500\n",
    "y=200\n",
    "z=x+y"
   ]
  },
  {
   "cell_type": "code",
   "execution_count": 61,
   "id": "8fba6a92",
   "metadata": {},
   "outputs": [
    {
     "data": {
      "text/plain": [
       "700"
      ]
     },
     "execution_count": 61,
     "metadata": {},
     "output_type": "execute_result"
    }
   ],
   "source": [
    "z"
   ]
  },
  {
   "cell_type": "code",
   "execution_count": 58,
   "id": "f8a9b04b",
   "metadata": {},
   "outputs": [
    {
     "ename": "TypeError",
     "evalue": "'list' object is not callable",
     "output_type": "error",
     "traceback": [
      "\u001b[1;31m---------------------------------------------------------------------------\u001b[0m",
      "\u001b[1;31mTypeError\u001b[0m                                 Traceback (most recent call last)",
      "Cell \u001b[1;32mIn[58], line 1\u001b[0m\n\u001b[1;32m----> 1\u001b[0m \u001b[38;5;28;43mprint\u001b[39;49m\u001b[43m(\u001b[49m\u001b[43mx\u001b[49m\u001b[38;5;241;43m+\u001b[39;49m\u001b[43my\u001b[49m\u001b[43m)\u001b[49m\n",
      "\u001b[1;31mTypeError\u001b[0m: 'list' object is not callable"
     ]
    }
   ],
   "source": [
    "print(x+y)"
   ]
  },
  {
   "cell_type": "code",
   "execution_count": 34,
   "id": "c74c781d",
   "metadata": {},
   "outputs": [],
   "source": [
    "y=0.544"
   ]
  },
  {
   "cell_type": "code",
   "execution_count": 35,
   "id": "daa48236",
   "metadata": {},
   "outputs": [
    {
     "data": {
      "text/plain": [
       "0.544"
      ]
     },
     "execution_count": 35,
     "metadata": {},
     "output_type": "execute_result"
    }
   ],
   "source": [
    "y"
   ]
  },
  {
   "cell_type": "code",
   "execution_count": 36,
   "id": "d5927478",
   "metadata": {},
   "outputs": [
    {
     "ename": "TypeError",
     "evalue": "'str' object is not callable",
     "output_type": "error",
     "traceback": [
      "\u001b[1;31m---------------------------------------------------------------------------\u001b[0m",
      "\u001b[1;31mTypeError\u001b[0m                                 Traceback (most recent call last)",
      "Cell \u001b[1;32mIn[36], line 1\u001b[0m\n\u001b[1;32m----> 1\u001b[0m \u001b[38;5;28;43mprint\u001b[39;49m\u001b[43m(\u001b[49m\u001b[43my\u001b[49m\u001b[43m)\u001b[49m\n",
      "\u001b[1;31mTypeError\u001b[0m: 'str' object is not callable"
     ]
    }
   ],
   "source": [
    "print(y)"
   ]
  },
  {
   "cell_type": "code",
   "execution_count": 37,
   "id": "cc2bcef2",
   "metadata": {},
   "outputs": [
    {
     "data": {
      "text/plain": [
       "str"
      ]
     },
     "execution_count": 37,
     "metadata": {},
     "output_type": "execute_result"
    }
   ],
   "source": [
    "type(stt)"
   ]
  },
  {
   "cell_type": "code",
   "execution_count": 38,
   "id": "e9bc1db6",
   "metadata": {},
   "outputs": [
    {
     "data": {
      "text/plain": [
       "int"
      ]
     },
     "execution_count": 38,
     "metadata": {},
     "output_type": "execute_result"
    }
   ],
   "source": [
    "type(x)"
   ]
  },
  {
   "cell_type": "code",
   "execution_count": 40,
   "id": "26a12ce1",
   "metadata": {},
   "outputs": [
    {
     "data": {
      "text/plain": [
       "float"
      ]
     },
     "execution_count": 40,
     "metadata": {},
     "output_type": "execute_result"
    }
   ],
   "source": [
    "type(y)"
   ]
  },
  {
   "cell_type": "code",
   "execution_count": 41,
   "id": "2d425476",
   "metadata": {},
   "outputs": [
    {
     "data": {
      "text/plain": [
       "'biotechnology'"
      ]
     },
     "execution_count": 41,
     "metadata": {},
     "output_type": "execute_result"
    }
   ],
   "source": [
    "print"
   ]
  },
  {
   "cell_type": "code",
   "execution_count": 44,
   "id": "dd0e1293",
   "metadata": {},
   "outputs": [
    {
     "ename": "NameError",
     "evalue": "name 'lst' is not defined",
     "output_type": "error",
     "traceback": [
      "\u001b[1;31m---------------------------------------------------------------------------\u001b[0m",
      "\u001b[1;31mNameError\u001b[0m                                 Traceback (most recent call last)",
      "Cell \u001b[1;32mIn[44], line 1\u001b[0m\n\u001b[1;32m----> 1\u001b[0m \u001b[38;5;28mlist\u001b[39m\u001b[38;5;241m=\u001b[39m\u001b[43mlst\u001b[49m([])\n",
      "\u001b[1;31mNameError\u001b[0m: name 'lst' is not defined"
     ]
    }
   ],
   "source": [
    "list=lst([])"
   ]
  },
  {
   "cell_type": "code",
   "execution_count": 47,
   "id": "995267ed",
   "metadata": {},
   "outputs": [],
   "source": [
    "list=[\"a,b,c,d,e\"]"
   ]
  },
  {
   "cell_type": "code",
   "execution_count": 48,
   "id": "328a20df",
   "metadata": {},
   "outputs": [
    {
     "ename": "NameError",
     "evalue": "name 'lst' is not defined",
     "output_type": "error",
     "traceback": [
      "\u001b[1;31m---------------------------------------------------------------------------\u001b[0m",
      "\u001b[1;31mNameError\u001b[0m                                 Traceback (most recent call last)",
      "Cell \u001b[1;32mIn[48], line 1\u001b[0m\n\u001b[1;32m----> 1\u001b[0m \u001b[38;5;28mlist\u001b[39m\u001b[38;5;241m=\u001b[39m\u001b[43mlst\u001b[49m\n",
      "\u001b[1;31mNameError\u001b[0m: name 'lst' is not defined"
     ]
    }
   ],
   "source": [
    "list=lst"
   ]
  },
  {
   "cell_type": "code",
   "execution_count": 49,
   "id": "6a2b2f16",
   "metadata": {},
   "outputs": [
    {
     "ename": "NameError",
     "evalue": "name 'lst' is not defined",
     "output_type": "error",
     "traceback": [
      "\u001b[1;31m---------------------------------------------------------------------------\u001b[0m",
      "\u001b[1;31mNameError\u001b[0m                                 Traceback (most recent call last)",
      "Cell \u001b[1;32mIn[49], line 1\u001b[0m\n\u001b[1;32m----> 1\u001b[0m \u001b[38;5;28mprint\u001b[39m\u001b[38;5;241m=\u001b[39m\u001b[43mlst\u001b[49m\n",
      "\u001b[1;31mNameError\u001b[0m: name 'lst' is not defined"
     ]
    }
   ],
   "source": [
    "print=lst"
   ]
  },
  {
   "cell_type": "code",
   "execution_count": 50,
   "id": "acf74318",
   "metadata": {},
   "outputs": [],
   "source": [
    "print=list"
   ]
  },
  {
   "cell_type": "code",
   "execution_count": null,
   "id": "5bd9a753",
   "metadata": {},
   "outputs": [],
   "source": []
  },
  {
   "cell_type": "code",
   "execution_count": null,
   "id": "667950f4",
   "metadata": {},
   "outputs": [],
   "source": []
  }
 ],
 "metadata": {
  "kernelspec": {
   "display_name": "Python 3 (ipykernel)",
   "language": "python",
   "name": "python3"
  },
  "language_info": {
   "codemirror_mode": {
    "name": "ipython",
    "version": 3
   },
   "file_extension": ".py",
   "mimetype": "text/x-python",
   "name": "python",
   "nbconvert_exporter": "python",
   "pygments_lexer": "ipython3",
   "version": "3.10.9"
  }
 },
 "nbformat": 4,
 "nbformat_minor": 5
}
