{
 "cells": [
  {
   "cell_type": "code",
   "execution_count": 33,
   "id": "69ae6b89",
   "metadata": {},
   "outputs": [],
   "source": [
    "dictt={ \"states\" : \"KA\" , \"corona_cases\" : 2000}"
   ]
  },
  {
   "cell_type": "code",
   "execution_count": 19,
   "id": "fe549122",
   "metadata": {
    "scrolled": false
   },
   "outputs": [
    {
     "ename": "NameError",
     "evalue": "name 'dictt' is not defined",
     "output_type": "error",
     "traceback": [
      "\u001b[1;31m---------------------------------------------------------------------------\u001b[0m",
      "\u001b[1;31mNameError\u001b[0m                                 Traceback (most recent call last)",
      "Cell \u001b[1;32mIn[19], line 1\u001b[0m\n\u001b[1;32m----> 1\u001b[0m \u001b[38;5;28mdict\u001b[39m\u001b[38;5;241m=\u001b[39m\u001b[43mdictt\u001b[49m\n",
      "\u001b[1;31mNameError\u001b[0m: name 'dictt' is not defined"
     ]
    }
   ],
   "source": [
    "dict=dictt"
   ]
  },
  {
   "cell_type": "code",
   "execution_count": 12,
   "id": "3fa5cbcb",
   "metadata": {},
   "outputs": [],
   "source": [
    "import numpy as np"
   ]
  },
  {
   "cell_type": "code",
   "execution_count": 27,
   "id": "d59c7042",
   "metadata": {},
   "outputs": [],
   "source": [
    "dictt_test={ \"states\" : [\"KA\" , \"AP\" , \"TS\" , \"UP\"] , \"corona\" : [3000 , 4000 , np.nan]}"
   ]
  },
  {
   "cell_type": "code",
   "execution_count": 15,
   "id": "469f87c2",
   "metadata": {},
   "outputs": [
    {
     "data": {
      "text/plain": [
       "{'states': ['KA', 'AP', 'TS', 'UP'], 'corona': [3000, 4000, nan]}"
      ]
     },
     "execution_count": 15,
     "metadata": {},
     "output_type": "execute_result"
    }
   ],
   "source": [
    "dictt_test"
   ]
  },
  {
   "cell_type": "code",
   "execution_count": 18,
   "id": "f0e643c1",
   "metadata": {},
   "outputs": [
    {
     "ename": "NameError",
     "evalue": "name 'dictt1' is not defined",
     "output_type": "error",
     "traceback": [
      "\u001b[1;31m---------------------------------------------------------------------------\u001b[0m",
      "\u001b[1;31mNameError\u001b[0m                                 Traceback (most recent call last)",
      "Cell \u001b[1;32mIn[18], line 1\u001b[0m\n\u001b[1;32m----> 1\u001b[0m \u001b[43mdictt1\u001b[49m\u001b[38;5;241m.\u001b[39mkeys()\n",
      "\u001b[1;31mNameError\u001b[0m: name 'dictt1' is not defined"
     ]
    }
   ],
   "source": [
    "dictt1.keys()"
   ]
  },
  {
   "cell_type": "code",
   "execution_count": null,
   "id": "63123e6b",
   "metadata": {},
   "outputs": [],
   "source": []
  },
  {
   "cell_type": "code",
   "execution_count": 20,
   "id": "2501e619",
   "metadata": {},
   "outputs": [
    {
     "ename": "NameError",
     "evalue": "name 'dictt1' is not defined",
     "output_type": "error",
     "traceback": [
      "\u001b[1;31m---------------------------------------------------------------------------\u001b[0m",
      "\u001b[1;31mNameError\u001b[0m                                 Traceback (most recent call last)",
      "Cell \u001b[1;32mIn[20], line 1\u001b[0m\n\u001b[1;32m----> 1\u001b[0m \u001b[43mdictt1\u001b[49m\u001b[38;5;241m.\u001b[39mkeys([\u001b[38;5;124m\"\u001b[39m\u001b[38;5;124mAP\u001b[39m\u001b[38;5;124m\"\u001b[39m,\u001b[38;5;124m\"\u001b[39m\u001b[38;5;124mKA\u001b[39m\u001b[38;5;124m\"\u001b[39m,\u001b[38;5;124m\"\u001b[39m\u001b[38;5;124mTS\u001b[39m\u001b[38;5;124m\"\u001b[39m,\u001b[38;5;124m\"\u001b[39m\u001b[38;5;124mUP\u001b[39m\u001b[38;5;124m\"\u001b[39m])\n",
      "\u001b[1;31mNameError\u001b[0m: name 'dictt1' is not defined"
     ]
    }
   ],
   "source": [
    "dictt1.keys([\"AP\",\"KA\",\"TS\",\"UP\"])"
   ]
  },
  {
   "cell_type": "code",
   "execution_count": 23,
   "id": "4a5eea17",
   "metadata": {},
   "outputs": [
    {
     "data": {
      "text/plain": [
       "['KA', 'AP', 'TS']"
      ]
     },
     "execution_count": 23,
     "metadata": {},
     "output_type": "execute_result"
    }
   ],
   "source": [
    "dictt_test[\"states\"][0:3]"
   ]
  },
  {
   "cell_type": "code",
   "execution_count": 31,
   "id": "356b11d9",
   "metadata": {},
   "outputs": [
    {
     "data": {
      "text/plain": [
       "'AP'"
      ]
     },
     "execution_count": 31,
     "metadata": {},
     "output_type": "execute_result"
    }
   ],
   "source": [
    "dictt_test[\"states\"][-3]"
   ]
  },
  {
   "cell_type": "code",
   "execution_count": null,
   "id": "36926875",
   "metadata": {},
   "outputs": [],
   "source": [
    "if condition:\n",
    "    "
   ]
  },
  {
   "cell_type": "code",
   "execution_count": null,
   "id": "78547e53",
   "metadata": {},
   "outputs": [],
   "source": []
  },
  {
   "cell_type": "code",
   "execution_count": null,
   "id": "a280ebc1",
   "metadata": {},
   "outputs": [],
   "source": []
  },
  {
   "cell_type": "code",
   "execution_count": null,
   "id": "0e0f0c30",
   "metadata": {},
   "outputs": [],
   "source": []
  },
  {
   "cell_type": "code",
   "execution_count": null,
   "id": "2946f43b",
   "metadata": {},
   "outputs": [],
   "source": []
  },
  {
   "cell_type": "code",
   "execution_count": null,
   "id": "20ea00c1",
   "metadata": {},
   "outputs": [],
   "source": []
  }
 ],
 "metadata": {
  "kernelspec": {
   "display_name": "Python 3 (ipykernel)",
   "language": "python",
   "name": "python3"
  },
  "language_info": {
   "codemirror_mode": {
    "name": "ipython",
    "version": 3
   },
   "file_extension": ".py",
   "mimetype": "text/x-python",
   "name": "python",
   "nbconvert_exporter": "python",
   "pygments_lexer": "ipython3",
   "version": "3.10.9"
  }
 },
 "nbformat": 4,
 "nbformat_minor": 5
}
