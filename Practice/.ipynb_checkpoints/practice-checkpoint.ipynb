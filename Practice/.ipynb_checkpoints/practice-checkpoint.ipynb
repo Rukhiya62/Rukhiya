{
 "cells": [
  {
   "cell_type": "code",
   "execution_count": 4,
   "id": "b72434c1",
   "metadata": {},
   "outputs": [],
   "source": [
    "variable=\"anusha\""
   ]
  },
  {
   "cell_type": "code",
   "execution_count": 5,
   "id": "7b9b4a66",
   "metadata": {},
   "outputs": [
    {
     "data": {
      "text/plain": [
       "'anusha'"
      ]
     },
     "execution_count": 5,
     "metadata": {},
     "output_type": "execute_result"
    }
   ],
   "source": [
    "variable"
   ]
  },
  {
   "cell_type": "code",
   "execution_count": 6,
   "id": "f516d827",
   "metadata": {},
   "outputs": [],
   "source": [
    "test=\"anusha\""
   ]
  },
  {
   "cell_type": "code",
   "execution_count": 7,
   "id": "743708a7",
   "metadata": {},
   "outputs": [
    {
     "data": {
      "text/plain": [
       "'anusha'"
      ]
     },
     "execution_count": 7,
     "metadata": {},
     "output_type": "execute_result"
    }
   ],
   "source": [
    "test"
   ]
  },
  {
   "cell_type": "code",
   "execution_count": 10,
   "id": "d660fc8a",
   "metadata": {},
   "outputs": [],
   "source": [
    "string1=\"hello\"\n"
   ]
  },
  {
   "cell_type": "code",
   "execution_count": 9,
   "id": "bed328fb",
   "metadata": {},
   "outputs": [],
   "source": [
    "string2=\"hello all\"\n",
    "string3=\"bye all\""
   ]
  },
  {
   "cell_type": "code",
   "execution_count": 71,
   "id": "02cb637f",
   "metadata": {},
   "outputs": [
    {
     "data": {
      "text/plain": [
       "'hello'"
      ]
     },
     "execution_count": 71,
     "metadata": {},
     "output_type": "execute_result"
    }
   ],
   "source": [
    "string=\"hello\"\n",
    "string"
   ]
  },
  {
   "cell_type": "code",
   "execution_count": 12,
   "id": "18b0a804",
   "metadata": {},
   "outputs": [
    {
     "data": {
      "text/plain": [
       "'hello'"
      ]
     },
     "execution_count": 12,
     "metadata": {},
     "output_type": "execute_result"
    }
   ],
   "source": [
    "string1"
   ]
  },
  {
   "cell_type": "code",
   "execution_count": 13,
   "id": "1f4e2443",
   "metadata": {},
   "outputs": [
    {
     "data": {
      "text/plain": [
       "'hello all'"
      ]
     },
     "execution_count": 13,
     "metadata": {},
     "output_type": "execute_result"
    }
   ],
   "source": [
    "string2"
   ]
  },
  {
   "cell_type": "raw",
   "id": "dd0a63e9",
   "metadata": {},
   "source": [
    "print(string4)"
   ]
  },
  {
   "cell_type": "code",
   "execution_count": 15,
   "id": "d251abc7",
   "metadata": {},
   "outputs": [
    {
     "name": "stdout",
     "output_type": "stream",
     "text": [
      "bye all\n"
     ]
    }
   ],
   "source": [
    "print(string3)"
   ]
  },
  {
   "cell_type": "code",
   "execution_count": 16,
   "id": "53fc45e0",
   "metadata": {},
   "outputs": [],
   "source": [
    "string4='''hello everyone.how are you'''"
   ]
  },
  {
   "cell_type": "code",
   "execution_count": 19,
   "id": "be334237",
   "metadata": {},
   "outputs": [],
   "source": [
    "string5='''hello everyone.\n",
    "how are you'''"
   ]
  },
  {
   "cell_type": "code",
   "execution_count": 12,
   "id": "8f9dc7ea",
   "metadata": {},
   "outputs": [],
   "source": [
    "stt=\"string\""
   ]
  },
  {
   "cell_type": "code",
   "execution_count": 13,
   "id": "a2a40126",
   "metadata": {},
   "outputs": [],
   "source": [
    "string=\"masters\""
   ]
  },
  {
   "cell_type": "code",
   "execution_count": 17,
   "id": "916bb61c",
   "metadata": {},
   "outputs": [],
   "source": [
    "stt=\"people\""
   ]
  },
  {
   "cell_type": "code",
   "execution_count": null,
   "id": "bbea5413",
   "metadata": {},
   "outputs": [],
   "source": [
    "print"
   ]
  },
  {
   "cell_type": "code",
   "execution_count": 14,
   "id": "a4a18162",
   "metadata": {},
   "outputs": [
    {
     "name": "stdout",
     "output_type": "stream",
     "text": [
      "string\n"
     ]
    }
   ],
   "source": [
    "print(stt)"
   ]
  },
  {
   "cell_type": "code",
   "execution_count": 16,
   "id": "12a93454",
   "metadata": {},
   "outputs": [
    {
     "name": "stdout",
     "output_type": "stream",
     "text": [
      "masters\n"
     ]
    }
   ],
   "source": [
    "print(string)"
   ]
  },
  {
   "cell_type": "code",
   "execution_count": 70,
   "id": "e0e3d69b",
   "metadata": {},
   "outputs": [
    {
     "data": {
      "text/plain": [
       "'name'"
      ]
     },
     "execution_count": 70,
     "metadata": {},
     "output_type": "execute_result"
    }
   ],
   "source": [
    "string=\"name\"\n",
    "string"
   ]
  },
  {
   "cell_type": "code",
   "execution_count": 68,
   "id": "c514f5f6",
   "metadata": {},
   "outputs": [
    {
     "ename": "TypeError",
     "evalue": "'list' object is not callable",
     "output_type": "error",
     "traceback": [
      "\u001b[1;31m---------------------------------------------------------------------------\u001b[0m",
      "\u001b[1;31mTypeError\u001b[0m                                 Traceback (most recent call last)",
      "Cell \u001b[1;32mIn[68], line 1\u001b[0m\n\u001b[1;32m----> 1\u001b[0m \u001b[38;5;28;43mprint\u001b[39;49m\u001b[43m(\u001b[49m\u001b[43mstring\u001b[49m\u001b[43m)\u001b[49m\n",
      "\u001b[1;31mTypeError\u001b[0m: 'list' object is not callable"
     ]
    }
   ],
   "source": []
  },
  {
   "cell_type": "code",
   "execution_count": 65,
   "id": "65e28459",
   "metadata": {},
   "outputs": [],
   "source": [
    "stt=\"biotechnology\""
   ]
  },
  {
   "cell_type": "code",
   "execution_count": 26,
   "id": "112c64cd",
   "metadata": {},
   "outputs": [],
   "source": [
    "print=(stt)"
   ]
  },
  {
   "cell_type": "code",
   "execution_count": 27,
   "id": "27889ad3",
   "metadata": {},
   "outputs": [
    {
     "data": {
      "text/plain": [
       "'biotechnology'"
      ]
     },
     "execution_count": 27,
     "metadata": {},
     "output_type": "execute_result"
    }
   ],
   "source": [
    "stt"
   ]
  },
  {
   "cell_type": "code",
   "execution_count": 28,
   "id": "99b3160e",
   "metadata": {},
   "outputs": [],
   "source": [
    "print=(stt)"
   ]
  },
  {
   "cell_type": "code",
   "execution_count": 60,
   "id": "ddeccfb6",
   "metadata": {},
   "outputs": [],
   "source": [
    "x=500\n",
    "y=200\n",
    "z=x+y"
   ]
  },
  {
   "cell_type": "code",
   "execution_count": 61,
   "id": "7bbde0ef",
   "metadata": {},
   "outputs": [
    {
     "data": {
      "text/plain": [
       "700"
      ]
     },
     "execution_count": 61,
     "metadata": {},
     "output_type": "execute_result"
    }
   ],
   "source": [
    "z"
   ]
  },
  {
   "cell_type": "code",
   "execution_count": 58,
   "id": "a112c830",
   "metadata": {},
   "outputs": [
    {
     "ename": "TypeError",
     "evalue": "'list' object is not callable",
     "output_type": "error",
     "traceback": [
      "\u001b[1;31m---------------------------------------------------------------------------\u001b[0m",
      "\u001b[1;31mTypeError\u001b[0m                                 Traceback (most recent call last)",
      "Cell \u001b[1;32mIn[58], line 1\u001b[0m\n\u001b[1;32m----> 1\u001b[0m \u001b[38;5;28;43mprint\u001b[39;49m\u001b[43m(\u001b[49m\u001b[43mx\u001b[49m\u001b[38;5;241;43m+\u001b[39;49m\u001b[43my\u001b[49m\u001b[43m)\u001b[49m\n",
      "\u001b[1;31mTypeError\u001b[0m: 'list' object is not callable"
     ]
    }
   ],
   "source": [
    "print(x+y)"
   ]
  },
  {
   "cell_type": "code",
   "execution_count": 34,
   "id": "df1a656b",
   "metadata": {},
   "outputs": [],
   "source": [
    "y=0.544"
   ]
  },
  {
   "cell_type": "code",
   "execution_count": 35,
   "id": "98399b0a",
   "metadata": {},
   "outputs": [
    {
     "data": {
      "text/plain": [
       "0.544"
      ]
     },
     "execution_count": 35,
     "metadata": {},
     "output_type": "execute_result"
    }
   ],
   "source": [
    "y"
   ]
  },
  {
   "cell_type": "code",
   "execution_count": 36,
   "id": "41980979",
   "metadata": {},
   "outputs": [
    {
     "ename": "TypeError",
     "evalue": "'str' object is not callable",
     "output_type": "error",
     "traceback": [
      "\u001b[1;31m---------------------------------------------------------------------------\u001b[0m",
      "\u001b[1;31mTypeError\u001b[0m                                 Traceback (most recent call last)",
      "Cell \u001b[1;32mIn[36], line 1\u001b[0m\n\u001b[1;32m----> 1\u001b[0m \u001b[38;5;28;43mprint\u001b[39;49m\u001b[43m(\u001b[49m\u001b[43my\u001b[49m\u001b[43m)\u001b[49m\n",
      "\u001b[1;31mTypeError\u001b[0m: 'str' object is not callable"
     ]
    }
   ],
   "source": [
    "print(y)"
   ]
  },
  {
   "cell_type": "code",
   "execution_count": 37,
   "id": "d13d225a",
   "metadata": {},
   "outputs": [
    {
     "data": {
      "text/plain": [
       "str"
      ]
     },
     "execution_count": 37,
     "metadata": {},
     "output_type": "execute_result"
    }
   ],
   "source": [
    "type(stt)"
   ]
  },
  {
   "cell_type": "code",
   "execution_count": 38,
   "id": "a94af1b4",
   "metadata": {},
   "outputs": [
    {
     "data": {
      "text/plain": [
       "int"
      ]
     },
     "execution_count": 38,
     "metadata": {},
     "output_type": "execute_result"
    }
   ],
   "source": [
    "type(x)"
   ]
  },
  {
   "cell_type": "code",
   "execution_count": 40,
   "id": "981cb4a4",
   "metadata": {},
   "outputs": [
    {
     "data": {
      "text/plain": [
       "float"
      ]
     },
     "execution_count": 40,
     "metadata": {},
     "output_type": "execute_result"
    }
   ],
   "source": [
    "type(y)"
   ]
  },
  {
   "cell_type": "code",
   "execution_count": 41,
   "id": "84a746f1",
   "metadata": {},
   "outputs": [
    {
     "data": {
      "text/plain": [
       "'biotechnology'"
      ]
     },
     "execution_count": 41,
     "metadata": {},
     "output_type": "execute_result"
    }
   ],
   "source": [
    "print"
   ]
  },
  {
   "cell_type": "code",
   "execution_count": 44,
   "id": "b10fd294",
   "metadata": {},
   "outputs": [
    {
     "ename": "NameError",
     "evalue": "name 'lst' is not defined",
     "output_type": "error",
     "traceback": [
      "\u001b[1;31m---------------------------------------------------------------------------\u001b[0m",
      "\u001b[1;31mNameError\u001b[0m                                 Traceback (most recent call last)",
      "Cell \u001b[1;32mIn[44], line 1\u001b[0m\n\u001b[1;32m----> 1\u001b[0m \u001b[38;5;28mlist\u001b[39m\u001b[38;5;241m=\u001b[39m\u001b[43mlst\u001b[49m([])\n",
      "\u001b[1;31mNameError\u001b[0m: name 'lst' is not defined"
     ]
    }
   ],
   "source": [
    "list=lst([])"
   ]
  },
  {
   "cell_type": "code",
   "execution_count": 47,
   "id": "0583afab",
   "metadata": {},
   "outputs": [],
   "source": [
    "list=[\"a,b,c,d,e\"]"
   ]
  },
  {
   "cell_type": "code",
   "execution_count": 48,
   "id": "7847de27",
   "metadata": {},
   "outputs": [
    {
     "ename": "NameError",
     "evalue": "name 'lst' is not defined",
     "output_type": "error",
     "traceback": [
      "\u001b[1;31m---------------------------------------------------------------------------\u001b[0m",
      "\u001b[1;31mNameError\u001b[0m                                 Traceback (most recent call last)",
      "Cell \u001b[1;32mIn[48], line 1\u001b[0m\n\u001b[1;32m----> 1\u001b[0m \u001b[38;5;28mlist\u001b[39m\u001b[38;5;241m=\u001b[39m\u001b[43mlst\u001b[49m\n",
      "\u001b[1;31mNameError\u001b[0m: name 'lst' is not defined"
     ]
    }
   ],
   "source": [
    "list=lst"
   ]
  },
  {
   "cell_type": "code",
   "execution_count": 49,
   "id": "ae07c665",
   "metadata": {},
   "outputs": [
    {
     "ename": "NameError",
     "evalue": "name 'lst' is not defined",
     "output_type": "error",
     "traceback": [
      "\u001b[1;31m---------------------------------------------------------------------------\u001b[0m",
      "\u001b[1;31mNameError\u001b[0m                                 Traceback (most recent call last)",
      "Cell \u001b[1;32mIn[49], line 1\u001b[0m\n\u001b[1;32m----> 1\u001b[0m \u001b[38;5;28mprint\u001b[39m\u001b[38;5;241m=\u001b[39m\u001b[43mlst\u001b[49m\n",
      "\u001b[1;31mNameError\u001b[0m: name 'lst' is not defined"
     ]
    }
   ],
   "source": [
    "print=lst"
   ]
  },
  {
   "cell_type": "code",
   "execution_count": 50,
   "id": "ed930b85",
   "metadata": {},
   "outputs": [],
   "source": [
    "print=list"
   ]
  },
  {
   "cell_type": "code",
   "execution_count": 1,
   "id": "f1ec6380",
   "metadata": {},
   "outputs": [],
   "source": [
    "list=\"anusha,bhargavi,devika,raziya\""
   ]
  },
  {
   "cell_type": "code",
   "execution_count": 3,
   "id": "1f925026",
   "metadata": {},
   "outputs": [
    {
     "name": "stdout",
     "output_type": "stream",
     "text": [
      "anusha,bhargavi,devika,raziya\n"
     ]
    }
   ],
   "source": [
    "print(list)"
   ]
  },
  {
   "cell_type": "code",
   "execution_count": 8,
   "id": "50bc9594",
   "metadata": {},
   "outputs": [],
   "source": [
    "lst=list"
   ]
  },
  {
   "cell_type": "code",
   "execution_count": 9,
   "id": "fb5e63e4",
   "metadata": {},
   "outputs": [
    {
     "name": "stdout",
     "output_type": "stream",
     "text": [
      "anusha,bhargavi,devika,raziya\n"
     ]
    }
   ],
   "source": [
    "print(lst)"
   ]
  },
  {
   "cell_type": "code",
   "execution_count": 1,
   "id": "f76311f2",
   "metadata": {},
   "outputs": [
    {
     "name": "stdout",
     "output_type": "stream",
     "text": [
      "{'google assistent', 'chrome'}\n"
     ]
    }
   ],
   "source": [
    "google=\"chrome\",\"google assistent\"\n",
    "set1=set(google)\n",
    "print(set1)"
   ]
  },
  {
   "cell_type": "code",
   "execution_count": null,
   "id": "cf6b1f6f",
   "metadata": {},
   "outputs": [],
   "source": []
  }
 ],
 "metadata": {
  "kernelspec": {
   "display_name": "Python 3 (ipykernel)",
   "language": "python",
   "name": "python3"
  },
  "language_info": {
   "codemirror_mode": {
    "name": "ipython",
    "version": 3
   },
   "file_extension": ".py",
   "mimetype": "text/x-python",
   "name": "python",
   "nbconvert_exporter": "python",
   "pygments_lexer": "ipython3",
   "version": "3.10.9"
  }
 },
 "nbformat": 4,
 "nbformat_minor": 5
}
