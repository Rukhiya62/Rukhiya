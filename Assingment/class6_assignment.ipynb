{
 "cells": [
  {
   "cell_type": "code",
   "execution_count": null,
   "id": "d5eb262d",
   "metadata": {},
   "outputs": [],
   "source": [
    "loop"
   ]
  },
  {
   "cell_type": "code",
   "execution_count": 31,
   "id": "61c41f53",
   "metadata": {},
   "outputs": [],
   "source": [
    "list=\"lst\"\n",
    "tuple=\"tup\"\n",
    "dict=\"dictt\"\n",
    "set=\"sett\""
   ]
  },
  {
   "cell_type": "code",
   "execution_count": 72,
   "id": "e997b11e",
   "metadata": {},
   "outputs": [
    {
     "name": "stdout",
     "output_type": "stream",
     "text": [
      "my friend name is anusha\n",
      "my friend name is bhargavi\n",
      "my friend name is yamini\n",
      "my friend name is devika\n",
      "my friend name is trinayani\n",
      "my friend name is manjusha\n",
      "my friend name is jessi\n",
      "my friend name is lalitha\n",
      "my friend name is sudha\n",
      "my friend name is mamatha\n"
     ]
    }
   ],
   "source": [
    "lst=friends_names\n",
    "friends_names=[\"anusha\",\"bhargavi\",\"yamini\",\"devika\",\"trinayani\",\"manjusha\",\"jessi\",\"lalitha\",\"sudha\",\"mamatha\"]\n",
    "for p in lst:\n",
    "    print(\"my friend name is\",p)"
   ]
  },
  {
   "cell_type": "code",
   "execution_count": 54,
   "id": "aae54e5b",
   "metadata": {},
   "outputs": [
    {
     "name": "stdout",
     "output_type": "stream",
     "text": [
      "abdulraouf,fathima,abida,farook,usman,parvin,mahooba,riyaz,zaheer,zakeer\n"
     ]
    }
   ],
   "source": [
    "lst1=family_members\n",
    "family_members=[\"abdulraouf,fathima,abida,farook,usman,parvin,mahooba,riyaz,zaheer,zakeer\"]\n",
    "for p in lst1:\n",
    "    print(p)"
   ]
  },
  {
   "cell_type": "code",
   "execution_count": 70,
   "id": "6a24f4d9",
   "metadata": {},
   "outputs": [
    {
     "name": "stdout",
     "output_type": "stream",
     "text": [
      "panipuri,halwa,bajji,parota,rasgula,malpuri,thumbsup,chapathi,idlysambar,biryani\n"
     ]
    }
   ],
   "source": [
    "food_names=[\"panipuri,halwa,bajji,parota,rasgula,malpuri,thumbsup,chapathi,idlysambar,biryani\"]\n",
    "for p in food_names:\n",
    "    print(p)"
   ]
  },
  {
   "cell_type": "code",
   "execution_count": 5,
   "id": "1fefaccc",
   "metadata": {},
   "outputs": [
    {
     "name": "stdout",
     "output_type": "stream",
     "text": [
      "chicken,chicken biryani,mutton,mutton biryani,fish curry,fish fry,egg,cake,egg masala,mutton liver\n"
     ]
    }
   ],
   "source": [
    "non_veg=[\"chicken,chicken biryani,mutton,mutton biryani,fish curry,fish fry,egg,cake,egg masala,mutton liver\"]\n",
    "for p in non_veg:\n",
    "    print(p)"
   ]
  },
  {
   "cell_type": "code",
   "execution_count": 6,
   "id": "d6d3c532",
   "metadata": {},
   "outputs": [
    {
     "name": "stdout",
     "output_type": "stream",
     "text": [
      "blue,black,pink,green,orange,aqua,maroon,pine,gray,violet\n"
     ]
    }
   ],
   "source": [
    "colours={\"blue,black,pink,green,orange,aqua,maroon,pine,gray,violet\"}\n",
    "for p in colours:\n",
    "    print(p)"
   ]
  },
  {
   "cell_type": "code",
   "execution_count": 21,
   "id": "b6064fc1",
   "metadata": {},
   "outputs": [
    {
     "name": "stdout",
     "output_type": "stream",
     "text": [
      "january,february,march,april,may,june,july,august,septmber,octomber,november,december\n"
     ]
    }
   ],
   "source": [
    "months=[\"january,february,march,april,may,june,july,august,septmber,octomber,november,december\"]\n",
    "for p in months:\n",
    "    print(p)"
   ]
  },
  {
   "cell_type": "code",
   "execution_count": 14,
   "id": "573c7baf",
   "metadata": {},
   "outputs": [
    {
     "name": "stdout",
     "output_type": "stream",
     "text": [
      "9\n",
      "18\n",
      "27\n",
      "36\n",
      "45\n",
      "54\n",
      "63\n",
      "72\n",
      "81\n",
      "90\n"
     ]
    }
   ],
   "source": [
    "for p in range (9,99,9):\n",
    "    print(p)"
   ]
  },
  {
   "cell_type": "code",
   "execution_count": 15,
   "id": "70dacb69",
   "metadata": {},
   "outputs": [
    {
     "name": "stdout",
     "output_type": "stream",
     "text": [
      "12\n",
      "24\n",
      "36\n",
      "48\n",
      "60\n",
      "72\n",
      "84\n",
      "96\n",
      "108\n",
      "120\n"
     ]
    }
   ],
   "source": [
    "for p in range (12,132,12):\n",
    "    print(p)"
   ]
  },
  {
   "cell_type": "code",
   "execution_count": 16,
   "id": "9c825518",
   "metadata": {},
   "outputs": [
    {
     "name": "stdout",
     "output_type": "stream",
     "text": [
      "18\n",
      "27\n",
      "36\n",
      "45\n",
      "54\n",
      "63\n",
      "72\n",
      "81\n"
     ]
    }
   ],
   "source": [
    "for p in range(18,90,9):\n",
    "    print(p)"
   ]
  },
  {
   "cell_type": "code",
   "execution_count": 17,
   "id": "fcc2a721",
   "metadata": {},
   "outputs": [
    {
     "name": "stdout",
     "output_type": "stream",
     "text": [
      "24\n",
      "36\n",
      "48\n",
      "60\n",
      "72\n",
      "84\n",
      "96\n",
      "108\n"
     ]
    }
   ],
   "source": [
    "for p in range(24,120,12):\n",
    "    print(p)"
   ]
  },
  {
   "cell_type": "code",
   "execution_count": null,
   "id": "8627c46d",
   "metadata": {},
   "outputs": [],
   "source": []
  }
 ],
 "metadata": {
  "kernelspec": {
   "display_name": "Python 3 (ipykernel)",
   "language": "python",
   "name": "python3"
  },
  "language_info": {
   "codemirror_mode": {
    "name": "ipython",
    "version": 3
   },
   "file_extension": ".py",
   "mimetype": "text/x-python",
   "name": "python",
   "nbconvert_exporter": "python",
   "pygments_lexer": "ipython3",
   "version": "3.10.9"
  }
 },
 "nbformat": 4,
 "nbformat_minor": 5
}
