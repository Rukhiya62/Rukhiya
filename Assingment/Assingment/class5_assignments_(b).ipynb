{
 "cells": [
  {
   "cell_type": "code",
   "execution_count": 11,
   "id": "a863ae89",
   "metadata": {},
   "outputs": [
    {
     "name": "stdout",
     "output_type": "stream",
     "text": [
      "weekday\n"
     ]
    }
   ],
   "source": [
    "print(\"weekday\")"
   ]
  },
  {
   "cell_type": "code",
   "execution_count": 27,
   "id": "c0a44a5d",
   "metadata": {},
   "outputs": [
    {
     "name": "stdout",
     "output_type": "stream",
     "text": [
      "weekend\n"
     ]
    }
   ],
   "source": [
    "today=\"sunday\"\n",
    "if today==\"monday\":\n",
    "    print(\"weekday\")\n",
    "elif today==\"tuesday\":\n",
    "    print(\"weekday\")\n",
    "elif today==\"wednesday\":\n",
    "    print(\"weekday\")\n",
    "elif today==\"thursday\":\n",
    "    print(\"weekday\")\n",
    "elif today==\"friday\":\n",
    "    print(\"weekday\")\n",
    "else:\n",
    "    print(\"weekend\")"
   ]
  },
  {
   "cell_type": "code",
   "execution_count": 1,
   "id": "1f30e4a5",
   "metadata": {},
   "outputs": [
    {
     "name": "stdout",
     "output_type": "stream",
     "text": [
      "my_age is 20 who am i\n",
      "young_age\n"
     ]
    }
   ],
   "source": [
    "age=20\n",
    "print(\"my_age is\",age,\"who am i\")\n",
    "if age>20:\n",
    "    print(\"teen_age\")\n",
    "else:\n",
    "    print(\"young_age\")\n"
   ]
  },
  {
   "cell_type": "code",
   "execution_count": 5,
   "id": "78f2e487",
   "metadata": {},
   "outputs": [
    {
     "name": "stdout",
     "output_type": "stream",
     "text": [
      "my_age is 30  who am i\n",
      "teen_age\n"
     ]
    }
   ],
   "source": [
    "age=30\n",
    "print(\"my_age is\",age,\" who am i\")\n",
    "if age>20:\n",
    "    print(\"teen_age\")\n",
    "else:\n",
    "    print(\"young_age\")\n"
   ]
  },
  {
   "cell_type": "code",
   "execution_count": 3,
   "id": "32572345",
   "metadata": {},
   "outputs": [
    {
     "name": "stdout",
     "output_type": "stream",
     "text": [
      "my age is 10 who am i\n",
      "young_age\n"
     ]
    }
   ],
   "source": [
    "age=10\n",
    "print(\"my age is\",age,\"who am i\")\n",
    "if age>20:\n",
    "    print(\"teen_age\")\n",
    "else:\n",
    "    print(\"young_age\")\n",
    "\n",
    "\n"
   ]
  },
  {
   "cell_type": "code",
   "execution_count": 4,
   "id": "3404e98e",
   "metadata": {},
   "outputs": [
    {
     "name": "stdout",
     "output_type": "stream",
     "text": [
      "my age is 40 who am i\n",
      "teen_age\n"
     ]
    }
   ],
   "source": [
    "age=40\n",
    "print(\"my age is\",age,\"who am i\")\n",
    "if age>20:\n",
    "    print(\"teen_age\")\n",
    "else:\n",
    "    print(\"young_age\")"
   ]
  },
  {
   "cell_type": "code",
   "execution_count": 8,
   "id": "29ac747a",
   "metadata": {},
   "outputs": [
    {
     "name": "stdout",
     "output_type": "stream",
     "text": [
      "weekend\n"
     ]
    }
   ],
   "source": [
    "today=[\"monday\",\"tuesday\",\"wednesday\",\"thursday\",\"friday\",\"saturaday\"]\n",
    "if today==\"monday\":\n",
    "    print(\"weekday\")\n",
    "else:\n",
    "    print(\"weekend\")"
   ]
  },
  {
   "cell_type": "code",
   "execution_count": 3,
   "id": "4108e5ff",
   "metadata": {},
   "outputs": [
    {
     "name": "stdout",
     "output_type": "stream",
     "text": [
      "i lost\n"
     ]
    }
   ],
   "source": [
    "income=10\n",
    "if income<10:\n",
    "    print(\"i am profitable\")\n",
    "else:\n",
    "    print(\"i lost\")"
   ]
  },
  {
   "cell_type": "code",
   "execution_count": 9,
   "id": "6d35c6a0",
   "metadata": {},
   "outputs": [
    {
     "name": "stdout",
     "output_type": "stream",
     "text": [
      "i am younger\n"
     ]
    }
   ],
   "source": [
    "age=19\n",
    "if age<19:\n",
    "    print(\"i am elder\")\n",
    "else:\n",
    "    print(\"i am younger\")"
   ]
  },
  {
   "cell_type": "code",
   "execution_count": 12,
   "id": "b03e0adb",
   "metadata": {},
   "outputs": [
    {
     "name": "stdout",
     "output_type": "stream",
     "text": [
      "30% discount\n"
     ]
    }
   ],
   "source": [
    "purchase=150\n",
    "if purchase>100:\n",
    "    print(\"30% discount\")\n",
    "elif purchase<50:\n",
    "    print(\"10% discount\")\n",
    "else:\n",
    "    print(\"20% discount\")"
   ]
  },
  {
   "cell_type": "code",
   "execution_count": 3,
   "id": "6192800e",
   "metadata": {},
   "outputs": [
    {
     "name": "stdout",
     "output_type": "stream",
     "text": [
      "chair\n"
     ]
    }
   ],
   "source": [
    "theater_price=50\n",
    "if theater_price==140:\n",
    "    print(\"balcony\")\n",
    "elif theater_price==100:\n",
    "    print(\"bench\")\n",
    "else:\n",
    "    print(\"chair\")\n"
   ]
  },
  {
   "cell_type": "code",
   "execution_count": 10,
   "id": "3c6944b7",
   "metadata": {},
   "outputs": [
    {
     "name": "stdout",
     "output_type": "stream",
     "text": [
      "bike and scooty\n"
     ]
    }
   ],
   "source": [
    "vechical_types=\"two_wheeler\"\n",
    "if \"two_wheeler\":\n",
    "    print(\"bike and scooty\")\n",
    "elif \"four_wheeler\":\n",
    "    print(\"car,van,zeep\")"
   ]
  },
  {
   "cell_type": "code",
   "execution_count": 12,
   "id": "6cb19f73",
   "metadata": {},
   "outputs": [
    {
     "name": "stdout",
     "output_type": "stream",
     "text": [
      "car,van,zeep\n"
     ]
    }
   ],
   "source": [
    "vechical_types=\"four_wheeler\"\n",
    "if  \"four_wheeler\":\n",
    "    print(\"car,van,zeep\")\n",
    "elif  \"two_wheeler\":\n",
    "    print(\"bike and scooty\")"
   ]
  },
  {
   "cell_type": "code",
   "execution_count": null,
   "id": "ceb390c9",
   "metadata": {},
   "outputs": [],
   "source": []
  }
 ],
 "metadata": {
  "kernelspec": {
   "display_name": "Python 3 (ipykernel)",
   "language": "python",
   "name": "python3"
  },
  "language_info": {
   "codemirror_mode": {
    "name": "ipython",
    "version": 3
   },
   "file_extension": ".py",
   "mimetype": "text/x-python",
   "name": "python",
   "nbconvert_exporter": "python",
   "pygments_lexer": "ipython3",
   "version": "3.10.9"
  }
 },
 "nbformat": 4,
 "nbformat_minor": 5
}
