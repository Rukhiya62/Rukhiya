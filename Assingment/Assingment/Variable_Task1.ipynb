{
 "cells": [
  {
   "cell_type": "code",
   "execution_count": 19,
   "id": "4bb0acdd",
   "metadata": {},
   "outputs": [],
   "source": [
    "Name=\"SK Rukhiya\"\n",
    "Age=22\n",
    "Gender=\"Female\"\n",
    "Qualification=\"MSC Biotechnology\"\n",
    "Location=\"Patan peta\"\n",
    "Git_repo=\"Rukhiya62\"\n",
    "Hobbies=\"Reading books,paper craft\"\n",
    "Best_friend_names=\"Anusha,Bhargavi\"\n"
   ]
  },
  {
   "cell_type": "code",
   "execution_count": 26,
   "id": "caeb8f8e",
   "metadata": {},
   "outputs": [
    {
     "name": "stdout",
     "output_type": "stream",
     "text": [
      "SK Rukhiya\n",
      "22\n",
      "Female\n",
      "MSC Biotechnology\n",
      "Patan peta\n",
      "Rukhiya62\n",
      "Reading books,paper craft\n",
      "Anusha,Bhargavi\n"
     ]
    }
   ],
   "source": [
    "print(Name)\n",
    "print(Age)\n",
    "print(Gender)\n",
    "print(Qualification)\n",
    "print(Location)\n",
    "print(Git_repo)\n",
    "print(Hobbies)\n",
    "print(Best_friend_names)"
   ]
  },
  {
   "cell_type": "code",
   "execution_count": null,
   "id": "d8cfd5fa",
   "metadata": {},
   "outputs": [],
   "source": []
  },
  {
   "cell_type": "code",
   "execution_count": null,
   "id": "81f22c48",
   "metadata": {},
   "outputs": [],
   "source": []
  },
  {
   "cell_type": "code",
   "execution_count": null,
   "id": "2dead050",
   "metadata": {},
   "outputs": [],
   "source": []
  },
  {
   "cell_type": "code",
   "execution_count": null,
   "id": "9a196999",
   "metadata": {},
   "outputs": [],
   "source": []
  }
 ],
 "metadata": {
  "kernelspec": {
   "display_name": "Python 3 (ipykernel)",
   "language": "python",
   "name": "python3"
  },
  "language_info": {
   "codemirror_mode": {
    "name": "ipython",
    "version": 3
   },
   "file_extension": ".py",
   "mimetype": "text/x-python",
   "name": "python",
   "nbconvert_exporter": "python",
   "pygments_lexer": "ipython3",
   "version": "3.10.9"
  }
 },
 "nbformat": 4,
 "nbformat_minor": 5
}
