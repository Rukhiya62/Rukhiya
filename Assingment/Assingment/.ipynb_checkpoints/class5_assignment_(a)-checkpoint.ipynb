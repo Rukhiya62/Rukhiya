{
 "cells": [
  {
   "cell_type": "code",
   "execution_count": 16,
   "id": "1b0b1961",
   "metadata": {},
   "outputs": [
    {
     "data": {
      "text/plain": [
       "{'family members': ['Abida',\n",
       "  'Farook',\n",
       "  'Usman',\n",
       "  'Zaheer',\n",
       "  'Zakeer',\n",
       "  'Fathima',\n",
       "  'Rahima',\n",
       "  'Mahin',\n",
       "  'Ayesha',\n",
       "  'Anjum']}"
      ]
     },
     "execution_count": 16,
     "metadata": {},
     "output_type": "execute_result"
    }
   ],
   "source": [
    "dictt={\"family members\" : [\"Abida\",\"Farook\",\"Usman\",\"Zaheer\",\"Zakeer\",\"Fathima\",\"Rahima\",\"Mahin\",\"Ayesha\",\"Anjum\"]}\n",
    "dictt"
   ]
  },
  {
   "cell_type": "code",
   "execution_count": 2,
   "id": "d09656e8",
   "metadata": {},
   "outputs": [],
   "source": [
    "dictt1={\"family_members\":[\"Abida\",\"Baji\",\"Farrok\",\"Usman\",\"Abdulraouf\",\"Fathima\",\"Rahima\",\"Ayesha\",\"Zaheer\",\"Zakeer\"],\"relation\":[\"mother\",\"father\",\"brother\",\"younger_brother\",\"grandfather\",\"grandmother\",\"aunty\",\"sister\",\"cousinbrother\",\"cousin\"]}"
   ]
  },
  {
   "cell_type": "code",
   "execution_count": 7,
   "id": "22032dc8",
   "metadata": {},
   "outputs": [
    {
     "name": "stdout",
     "output_type": "stream",
     "text": [
      "my father name is Baji\n",
      "my favourite family_member is\n"
     ]
    },
    {
     "data": {
      "text/plain": [
       "'Zaheer'"
      ]
     },
     "execution_count": 7,
     "metadata": {},
     "output_type": "execute_result"
    }
   ],
   "source": [
    "print(\"my father name is\",dictt1[\"family_members\"][-9])\n",
    "print(\"my favourite family_member is\")\n",
    "dictt1[\"family_members\"][-2]\n",
    "\n"
   ]
  },
  {
   "cell_type": "code",
   "execution_count": 10,
   "id": "22f984ee",
   "metadata": {},
   "outputs": [],
   "source": [
    "friends_details={\"friend_names\":[\"anusha\",\"bhargavi\",\"lalitha\",\"yamini\",\"devika\",\"manjusha\",\"trinayani\",\"gowthami\",\"nandini\",\"kyamini\"],\"qualities\":[\"best_friend\",\"creative\",\"chatterbox\",\"helping_nature\",\"intelligent\",\"honest\",\"dancer\",\"toper\",\"smart\",\"foody\"]}"
   ]
  },
  {
   "cell_type": "code",
   "execution_count": 14,
   "id": "c38af0e1",
   "metadata": {},
   "outputs": [
    {
     "name": "stdout",
     "output_type": "stream",
     "text": [
      "my intelligent friend_name is devika\n",
      "my best friend is bhargavi\n"
     ]
    }
   ],
   "source": [
    "print(\"my intelligent friend_name is\",friends_details[\"friend_names\"][-6])\n",
    "print(\"my best friend is\",friends_details[\"friend_names\"][-9])"
   ]
  },
  {
   "cell_type": "code",
   "execution_count": 11,
   "id": "94ff586f",
   "metadata": {},
   "outputs": [],
   "source": [
    "food_items={\"veg_items\":[\"mangopickel\",\"ladiesfinger\",\"tomato\",\"potato_chips\",\"panipuri\",\"curd\",\"ghee\",\"halwa\",\"ice_cream\",\"spinach\"],\"ratings\":[8,5,4,8,10,4,8,10,9,3],\n",
    "\"non_veg\":[\"chicken\",\"mutton\",\"crabs\",\"cake\",\"mutton_biryani\",\"chicken_gravy\",\"mutton_kurma\",\"fish\",\"chicken_briyani\",\"chicken_fry\"],\"ratings\":[8,5,4,8,10,4,8,10,9,3]}"
   ]
  },
  {
   "cell_type": "code",
   "execution_count": 13,
   "id": "7c37a832",
   "metadata": {},
   "outputs": [
    {
     "name": "stdout",
     "output_type": "stream",
     "text": [
      "non_veg food_item rating1 mutton_biryani\n"
     ]
    }
   ],
   "source": [
    "print(\"non_veg food_item rating1\",food_items[\"non_veg\"][4])"
   ]
  },
  {
   "cell_type": "code",
   "execution_count": 14,
   "id": "cb1d2087",
   "metadata": {},
   "outputs": [],
   "source": [
    "cities={\"destination\":[\"vijayavada\",\"vishakapatnam\",\"karnool\",\"srikakulam\",\"hyderbad\",\"karnataka\",\"guntur\",\"kerala\",\"goa\",\"delhi\"],\"ratings\":[8,8,5,6,9,10,9,9,8,7]}"
   ]
  },
  {
   "cell_type": "code",
   "execution_count": null,
   "id": "dc404093",
   "metadata": {},
   "outputs": [],
   "source": [
    "print(\"city name rating3\",cities[\"destination\"][4])"
   ]
  },
  {
   "cell_type": "code",
   "execution_count": null,
   "id": "4d236383",
   "metadata": {},
   "outputs": [],
   "source": []
  },
  {
   "cell_type": "code",
   "execution_count": null,
   "id": "059e6824",
   "metadata": {},
   "outputs": [],
   "source": []
  },
  {
   "cell_type": "code",
   "execution_count": 3,
   "id": "8d6c6710",
   "metadata": {},
   "outputs": [],
   "source": [
    "student_name=[\"rukhiya\",\"raziya\",\"farzana\"]"
   ]
  },
  {
   "cell_type": "code",
   "execution_count": 4,
   "id": "61e37401",
   "metadata": {},
   "outputs": [
    {
     "name": "stdout",
     "output_type": "stream",
     "text": [
      "['rukhiya', 'raziya', 'farzana']\n"
     ]
    }
   ],
   "source": [
    "print(student_name)"
   ]
  },
  {
   "cell_type": "code",
   "execution_count": 5,
   "id": "16788cd1",
   "metadata": {},
   "outputs": [],
   "source": [
    "student_name1=\"yamini\""
   ]
  },
  {
   "cell_type": "code",
   "execution_count": 6,
   "id": "1735322b",
   "metadata": {},
   "outputs": [
    {
     "name": "stdout",
     "output_type": "stream",
     "text": [
      "yamini\n"
     ]
    }
   ],
   "source": [
    "print(student_name1)"
   ]
  },
  {
   "cell_type": "code",
   "execution_count": null,
   "id": "c171ac89",
   "metadata": {},
   "outputs": [],
   "source": []
  },
  {
   "cell_type": "code",
   "execution_count": null,
   "id": "902c413a",
   "metadata": {},
   "outputs": [],
   "source": []
  },
  {
   "cell_type": "code",
   "execution_count": null,
   "id": "754eacac",
   "metadata": {},
   "outputs": [],
   "source": []
  }
 ],
 "metadata": {
  "kernelspec": {
   "display_name": "Python 3 (ipykernel)",
   "language": "python",
   "name": "python3"
  },
  "language_info": {
   "codemirror_mode": {
    "name": "ipython",
    "version": 3
   },
   "file_extension": ".py",
   "mimetype": "text/x-python",
   "name": "python",
   "nbconvert_exporter": "python",
   "pygments_lexer": "ipython3",
   "version": "3.10.9"
  }
 },
 "nbformat": 4,
 "nbformat_minor": 5
}
