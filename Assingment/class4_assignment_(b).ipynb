{
 "cells": [
  {
   "cell_type": "code",
   "execution_count": 8,
   "id": "7680ab81",
   "metadata": {},
   "outputs": [],
   "source": [
    "string1=\"Anusha\"\n",
    "string2=\"Bhargavi\"\n",
    "string3=\"Yamini\"\n",
    "string4=\"Mamatha\"\n",
    "string5=\"Manjusha\"\n",
    "string6=\"Jahanavi\"\n",
    "string7=\"Lalitha\"\n",
    "string8=\"Devika\"\n",
    "string9=\"Pranavi\"\n",
    "string10=\"Trinayani\""
   ]
  },
  {
   "cell_type": "code",
   "execution_count": 9,
   "id": "4f43b7b4",
   "metadata": {},
   "outputs": [
    {
     "name": "stdout",
     "output_type": "stream",
     "text": [
      "Anusha\n",
      "Bhargavi\n",
      "Yamini\n",
      "Mamatha\n",
      "Manjusha\n",
      "Jahanavi\n",
      "Lalitha\n",
      "Devika\n",
      "Pranavi\n",
      "Trinayani\n"
     ]
    }
   ],
   "source": [
    "print(string1)\n",
    "print(string2)\n",
    "print(string3)\n",
    "print(string4)\n",
    "print(string5)\n",
    "print(string6)\n",
    "print(string7)\n",
    "print(string8)\n",
    "print(string9)\n",
    "print(string10)"
   ]
  },
  {
   "cell_type": "code",
   "execution_count": 1,
   "id": "f0589ef9",
   "metadata": {},
   "outputs": [],
   "source": [
    "Grand_father=\"AbdulRaouf\"\n",
    "Grand_mother=\"Fathima\"\n",
    "Father=\"Baji\"\n",
    "Mother=\"Abida\"\n",
    "Brother1=\"Farook\"\n",
    "Brother2=\"Usman\"\n",
    "Cousin1=\"Zaheer\"\n",
    "Cousin2=\"Zakeer\"\n",
    "Sister=\"Ayesha\"\n",
    "Cousin_sis=\"Mahin\""
   ]
  },
  {
   "cell_type": "code",
   "execution_count": 4,
   "id": "05ef7a95",
   "metadata": {},
   "outputs": [
    {
     "name": "stdout",
     "output_type": "stream",
     "text": [
      "AbdulRaouf\n",
      "Fathima\n",
      "Baji\n",
      "Abida\n",
      "Farook\n",
      "Usman\n"
     ]
    }
   ],
   "source": [
    "print(Grand_father)\n",
    "print(Grand_mother)\n",
    "print(Father)\n",
    "print(Mother)\n",
    "print(Brother1)\n",
    "print(Brother2)"
   ]
  },
  {
   "cell_type": "code",
   "execution_count": 7,
   "id": "337f39f6",
   "metadata": {},
   "outputs": [
    {
     "name": "stdout",
     "output_type": "stream",
     "text": [
      "Zaheer , Zakeer , Mahin  Ayesha \n"
     ]
    }
   ],
   "source": [
    "print(Cousin1,\",\",Cousin2,\",\",Cousin_sis,\"\",Sister,\"\")"
   ]
  },
  {
   "cell_type": "code",
   "execution_count": 8,
   "id": "c79169f9",
   "metadata": {},
   "outputs": [],
   "source": [
    "string=\"stt\""
   ]
  },
  {
   "cell_type": "code",
   "execution_count": 9,
   "id": "1aa77e4f",
   "metadata": {},
   "outputs": [],
   "source": [
    "stt=\"ice_cream\""
   ]
  },
  {
   "cell_type": "code",
   "execution_count": 10,
   "id": "444aa76f",
   "metadata": {},
   "outputs": [
    {
     "name": "stdout",
     "output_type": "stream",
     "text": [
      "ice_cream\n"
     ]
    }
   ],
   "source": [
    "print(stt)"
   ]
  },
  {
   "cell_type": "code",
   "execution_count": 13,
   "id": "357021f2",
   "metadata": {},
   "outputs": [],
   "source": [
    "stt1=\"biryani\"\n",
    "stt2=\"rassgula\"\n",
    "stt3=\"panipuri\"\n",
    "stt4=\"muttoncurry\"\n",
    "stt5=\"potatochips\"\n",
    "stt6=\"vanila\"\n",
    "stt7=\"cool_drinks\"\n",
    "stt8=\"milk\"\n",
    "stt9=\"basundi\"\n",
    "stt10=\"spicy_food\""
   ]
  },
  {
   "cell_type": "code",
   "execution_count": 15,
   "id": "6d58889f",
   "metadata": {},
   "outputs": [
    {
     "name": "stdout",
     "output_type": "stream",
     "text": [
      "biryani\n",
      "rassgula\n",
      "panipuri\n",
      "muttoncurry\n",
      "potatochips\n",
      "vanila\n",
      "cool_drinks\n",
      "milk\n",
      "basundi\n",
      "spicy_food\n"
     ]
    }
   ],
   "source": [
    "print(stt1)\n",
    "print(stt2)\n",
    "print(stt3)\n",
    "print(stt4)\n",
    "print(stt5)\n",
    "print(stt6)\n",
    "print(stt7)\n",
    "print(stt8)\n",
    "print(stt9)\n",
    "print(stt10)"
   ]
  },
  {
   "cell_type": "code",
   "execution_count": 17,
   "id": "6c860a3d",
   "metadata": {},
   "outputs": [],
   "source": [
    "string=\"colour\""
   ]
  },
  {
   "cell_type": "code",
   "execution_count": 1,
   "id": "e87587c2",
   "metadata": {},
   "outputs": [],
   "source": [
    "colour1=\"maroon\"\n",
    "colour2=\"golden\"\n",
    "colour3=\"green\"\n",
    "colour4=\"aqua\"\n",
    "colour5=\"yellow\"\n",
    "colour6=\"pink\"\n",
    "colour7=\"black\"\n",
    "colour8=\"pine\"\n",
    "colour9=\"gray\"\n",
    "colour10=\"violet\""
   ]
  },
  {
   "cell_type": "code",
   "execution_count": 3,
   "id": "63095e91",
   "metadata": {},
   "outputs": [
    {
     "name": "stdout",
     "output_type": "stream",
     "text": [
      "maroon\n",
      "golden\n",
      "green\n",
      "aqua\n",
      "yellow\n",
      "pink\n",
      "black\n",
      "pine\n",
      "gray\n",
      "violet\n"
     ]
    }
   ],
   "source": [
    "print(colour1)\n",
    "print(colour2)\n",
    "print(colour3)\n",
    "print(colour4)\n",
    "print(colour5)\n",
    "print(colour6)\n",
    "print(colour7)\n",
    "print(colour8)\n",
    "print(colour9)\n",
    "print(colour10)"
   ]
  },
  {
   "cell_type": "code",
   "execution_count": 8,
   "id": "8c310f5b",
   "metadata": {},
   "outputs": [],
   "source": [
    "month1=\"january\"\n",
    "month2=\"february\"\n",
    "month3=\"march\"\n",
    "month4=\"april\"\n",
    "month5=\"may\"\n",
    "month6=\"june\"\n",
    "month7=\"july\"\n",
    "month8=\"august\"\n",
    "month9=\"september\"\n",
    "month10=\"october\"\n",
    "month11=\"november\"\n",
    "month12=\"december\""
   ]
  },
  {
   "cell_type": "code",
   "execution_count": 9,
   "id": "eb598727",
   "metadata": {},
   "outputs": [
    {
     "name": "stdout",
     "output_type": "stream",
     "text": [
      "january\n",
      "february\n",
      "march\n",
      "april\n",
      "may\n",
      "june\n",
      "july\n",
      "august\n",
      "september\n",
      "october\n",
      "november\n",
      "december\n"
     ]
    }
   ],
   "source": [
    "print(month1)\n",
    "print(month2)\n",
    "print(month3)\n",
    "print(month4)\n",
    "print(month5)\n",
    "print(month6)\n",
    "print(month7)\n",
    "print(month8)\n",
    "print(month9)\n",
    "print(month10)\n",
    "print(month11)\n",
    "print(month12)"
   ]
  },
  {
   "cell_type": "code",
   "execution_count": 1,
   "id": "81fd0ee9",
   "metadata": {},
   "outputs": [],
   "source": [
    "game1=\"ludo\"\n",
    "game2=\"carrom\"\n",
    "game3=\"chess\"\n",
    "game4=\"table tennis\"\n",
    "game5=\"cricket\"\n",
    "game6=\"badminton\"\n",
    "game7=\"volleyball\"\n",
    "game8=\"archery\"\n",
    "game9=\"basketball\"\n",
    "game10=\"skateboarding\""
   ]
  },
  {
   "cell_type": "code",
   "execution_count": 2,
   "id": "2bcb62ee",
   "metadata": {},
   "outputs": [
    {
     "name": "stdout",
     "output_type": "stream",
     "text": [
      "ludo\n",
      "carrom\n",
      "chess\n",
      "table tennis\n",
      "cricket\n",
      "badminton\n",
      "volleyball\n",
      "archery\n",
      "basketball\n",
      "skateboarding\n"
     ]
    }
   ],
   "source": [
    "print(game1)\n",
    "print(game2)\n",
    "print(game3)\n",
    "print(game4)\n",
    "print(game5)\n",
    "print(game6)\n",
    "print(game7)\n",
    "print(game8)\n",
    "print(game9)\n",
    "print(game10)"
   ]
  },
  {
   "cell_type": "code",
   "execution_count": 3,
   "id": "29725076",
   "metadata": {},
   "outputs": [],
   "source": [
    "city1=\"Vijayawada\"\n",
    "city2=\"Visakhapatnam\"\n",
    "city3=\"Machilipatnam\"\n",
    "city4=\"Guntur\"\n",
    "city5=\"Rajahmundry\"\n",
    "city6=\"Kurnool\"\n",
    "city7=\"Eluru\"\n",
    "city8=\"West godavari\"\n",
    "city9=\"Chittoor\"\n",
    "city10=\"Kalinada\"\n"
   ]
  },
  {
   "cell_type": "code",
   "execution_count": 4,
   "id": "a8220338",
   "metadata": {},
   "outputs": [
    {
     "name": "stdout",
     "output_type": "stream",
     "text": [
      "Vijayawada\n",
      "Visakhapatnam\n",
      "Machilipatnam\n",
      "Guntur\n",
      "Rajahmundry\n",
      "Kurnool\n",
      "Eluru\n",
      "West godavari\n",
      "Chittoor\n",
      "Kalinada\n"
     ]
    }
   ],
   "source": [
    "print(city1)\n",
    "print(city2)\n",
    "print(city3)\n",
    "print(city4)\n",
    "print(city5)\n",
    "print(city6)\n",
    "print(city7)\n",
    "print(city8)\n",
    "print(city9)\n",
    "print(city10)"
   ]
  },
  {
   "cell_type": "code",
   "execution_count": 6,
   "id": "b27b72da",
   "metadata": {},
   "outputs": [],
   "source": [
    "list=\"lst\""
   ]
  },
  {
   "cell_type": "code",
   "execution_count": 13,
   "id": "85ca15af",
   "metadata": {},
   "outputs": [],
   "source": [
    "friends_names=[\"anusha,bhargavi,yamini,devika,trinayani,manjusha,jessi,lalitha,sudha,mamatha\"]"
   ]
  },
  {
   "cell_type": "code",
   "execution_count": 14,
   "id": "67f7c341",
   "metadata": {},
   "outputs": [
    {
     "name": "stdout",
     "output_type": "stream",
     "text": [
      "['anusha,bhargavi,yamini,devika,trinayani,manjusha,jessi,lalitha,sudha,mamatha']\n"
     ]
    }
   ],
   "source": [
    "print(friends_names)"
   ]
  },
  {
   "cell_type": "code",
   "execution_count": 15,
   "id": "c6bebb11",
   "metadata": {},
   "outputs": [],
   "source": [
    "tuple=\"tup\""
   ]
  },
  {
   "cell_type": "code",
   "execution_count": 16,
   "id": "5fd899f0",
   "metadata": {},
   "outputs": [],
   "source": [
    "family_members=(\"abdulraouf,fathima,abida,farook,usman,parvin,mahooba,riyaz,zaheer,zakeer\")"
   ]
  },
  {
   "cell_type": "code",
   "execution_count": 20,
   "id": "62a6eebd",
   "metadata": {},
   "outputs": [
    {
     "name": "stdout",
     "output_type": "stream",
     "text": [
      "abdulraouf,fathima,abida,farook,usman,parvin,mahooba,riyaz,zaheer,zakeer\n"
     ]
    }
   ],
   "source": [
    "print(family_members)"
   ]
  },
  {
   "cell_type": "code",
   "execution_count": 21,
   "id": "65b875ba",
   "metadata": {},
   "outputs": [],
   "source": [
    "set=\"sett\""
   ]
  },
  {
   "cell_type": "code",
   "execution_count": 22,
   "id": "8a81d7b2",
   "metadata": {},
   "outputs": [],
   "source": [
    "colours={\"blue,black,pink,green,orange,aqua,maroon,pine,gray,violet\"}"
   ]
  },
  {
   "cell_type": "code",
   "execution_count": 27,
   "id": "8da17457",
   "metadata": {},
   "outputs": [
    {
     "name": "stdout",
     "output_type": "stream",
     "text": [
      "{'blue,black,pink,green,orange,aqua,maroon,pine,gray,violet'}\n"
     ]
    }
   ],
   "source": [
    "print(colours)"
   ]
  },
  {
   "cell_type": "code",
   "execution_count": 29,
   "id": "48989c02",
   "metadata": {},
   "outputs": [],
   "source": [
    "month_names={1,9,10,5,3,2,7,8,6,4}"
   ]
  },
  {
   "cell_type": "code",
   "execution_count": 30,
   "id": "9af190ba",
   "metadata": {},
   "outputs": [
    {
     "name": "stdout",
     "output_type": "stream",
     "text": [
      "{1, 2, 3, 4, 5, 6, 7, 8, 9, 10}\n"
     ]
    }
   ],
   "source": [
    "print(month_names)"
   ]
  },
  {
   "cell_type": "code",
   "execution_count": 49,
   "id": "e8379510",
   "metadata": {},
   "outputs": [],
   "source": [
    "tollywood_heros=[\"chiru\", \"balaya\", \"nag\",\"venky\",\"powerstar\",\"superstar\",\"ntr\",\"ramcharan\"]\n",
    "tollywood_heros[0]=\"chiranjeevi\"\n",
    "tollywood_heros[1]=\"balakrishna\"\n",
    "tollywood_heros[2]=\"nagarjuna\"\n",
    "tollywood_heros[4]=\"pawan kalyan\"\n",
    "tollywood_heros[5]=\"mahesbabu\"\n",
    "tollywood_heros[6]=\"NT rama rao\"\n",
    "tollywood_heros[7]=\"ramcharan\""
   ]
  },
  {
   "cell_type": "code",
   "execution_count": 50,
   "id": "51ed4356",
   "metadata": {},
   "outputs": [
    {
     "data": {
      "text/plain": [
       "['chiranjeevi',\n",
       " 'balakrishna',\n",
       " 'nagarjuna',\n",
       " 'venky',\n",
       " 'pawan kalyan',\n",
       " 'mahesbabu',\n",
       " 'NT rama rao',\n",
       " 'ramcharan']"
      ]
     },
     "execution_count": 50,
     "metadata": {},
     "output_type": "execute_result"
    }
   ],
   "source": [
    "tollywood_heros"
   ]
  },
  {
   "cell_type": "code",
   "execution_count": 4,
   "id": "ba09f069",
   "metadata": {},
   "outputs": [
    {
     "data": {
      "text/plain": [
       "{'Akshay Kumar',\n",
       " 'Amitabh Bachchan',\n",
       " 'HrithikRoshan',\n",
       " 'amirkhan',\n",
       " 'salmankhan',\n",
       " 'sharukkhan'}"
      ]
     },
     "execution_count": 4,
     "metadata": {},
     "output_type": "execute_result"
    }
   ],
   "source": [
    "bollywood_heros=[\"sharukkhan\", \"salmankhan\", \"salmankhan\",\"amirkhan\",\"HrithikRoshan\",\"Amitabh Bachchan\",\"Akshay Kumar\",\"amirkhan\"]\n",
    "set1=set(bollywood_heros)\n",
    "set1"
   ]
  },
  {
   "cell_type": "code",
   "execution_count": 15,
   "id": "994f2c0c",
   "metadata": {},
   "outputs": [
    {
     "name": "stdout",
     "output_type": "stream",
     "text": [
      "my favariot breakfast is  parota\n"
     ]
    }
   ],
   "source": [
    "breakfast_items=[\"upma\",\"dosa\",\"idly\",\"puri\",\"punugulu\",\"roti\",\"chapathi\", \"parota\",\"mysoor baji\",\"minapa baji\"]\n",
    "\n",
    "print (\"my favariot breakfast is \",breakfast_items[7])\n"
   ]
  },
  {
   "cell_type": "code",
   "execution_count": null,
   "id": "25708138",
   "metadata": {},
   "outputs": [],
   "source": []
  }
 ],
 "metadata": {
  "kernelspec": {
   "display_name": "Python 3 (ipykernel)",
   "language": "python",
   "name": "python3"
  },
  "language_info": {
   "codemirror_mode": {
    "name": "ipython",
    "version": 3
   },
   "file_extension": ".py",
   "mimetype": "text/x-python",
   "name": "python",
   "nbconvert_exporter": "python",
   "pygments_lexer": "ipython3",
   "version": "3.10.9"
  }
 },
 "nbformat": 4,
 "nbformat_minor": 5
}
